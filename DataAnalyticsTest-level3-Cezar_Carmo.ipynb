{
 "cells": [
  {
   "cell_type": "markdown",
   "id": "9eec3119",
   "metadata": {},
   "source": [
    "# ST IT Cloud - Data and Analytics Test LV.3\n",
    "\n",
    "Esse teste deve avaliar a qualidade técnica na manipulacão de dados.\n",
    "\n",
    "## Passo a passo\n",
    "\n",
    "- Disponibilizamos aqui 1 case para ser solucionado, leia os enunciados dos problemas, desenvolva os programas, utilizando a **stack definida durante o processo seletivo**, para entregar os dados de acordo com os requisitos descritos abaixo.\n",
    "\n",
    "\n",
    "**Faz parte dos critérios de avaliacão a pontualidade da entrega. Implemente até onde for possível dentro do prazo acordado.**\n",
    "\n",
    "**Os dados de pessoas foram gerados de forma aleatória, utilizando a biblioteca FakerJS, FakerJS-BR e Faker**\n",
    "\n",
    "LEMBRE-SE: A entrega deve conter TODOS os passos para o avaliador executar o programa (keep it simple).\n"
   ]
  },
  {
   "cell_type": "markdown",
   "id": "1eb61f06",
   "metadata": {},
   "source": [
    "# TESTE PRÁTICO"
   ]
  },
  {
   "cell_type": "markdown",
   "id": "8ed8c6a5",
   "metadata": {},
   "source": [
    "**Problema**: Você está recebendo o arquivo 'dados_cadastrais_fake.csv' que contem dados cadastrais de clientes, mas para que análises ou relatórios sejam feitos é necessário limpar e normalizar os dados. Além disso, existe uma coluna com o número de cpf e outra com cnpj, você precisará padronizar deixando apenas dígitos em formato string (sem caracteres especiais), implementar uma forma de verificar se tais documentos são válidos sendo que a informação deve se adicionada ao dataframe em outras duas novas colunas.\n",
    "\n",
    "Após a normalização, gere reports que respondam as seguintes perguntas:\n",
    "- Quantos clientes temos nessa base?\n",
    "- Qual a média de idade dos clientes?\n",
    "- Quantos clientes nessa base pertencem a cada estado?\n",
    "- Quantos CPFs válidos e inválidos foram encontrados?\n",
    "- Quantos CNPJs válidos e inválidos foram encontrados?\n",
    "\n",
    "Ao final gere um arquivo no formato csv e um outro arquivo no formato parquet chamado (problema1_normalizado), eles serão destinados para pessoas distintas."
   ]
  },
  {
   "cell_type": "markdown",
   "id": "27f15054",
   "metadata": {},
   "source": [
    "<a id='sec1'></a>\n",
    "## 1. BIBLIOTECAS"
   ]
  },
  {
   "cell_type": "code",
   "execution_count": 1,
   "id": "51c97b8e",
   "metadata": {},
   "outputs": [
    {
     "name": "stdout",
     "output_type": "stream",
     "text": [
      "Requirement already satisfied: validate-docbr in c:\\users\\2186700\\anaconda3\\lib\\site-packages (1.10.0)\n"
     ]
    }
   ],
   "source": [
    "## Data analysis packages:\n",
    "\n",
    "import pandas as pd\n",
    "import numpy as np\n",
    "\n",
    "# ignore warnings:\n",
    "\n",
    "import warnings\n",
    "warnings.filterwarnings(\"ignore\")\n",
    "\n",
    "# Validate-docbr (Python Library for Validation of Brazilian Documents).\n",
    "\n",
    "!pip install validate-docbr\n",
    "\n",
    "from validate_docbr import CPF\n",
    "\n",
    "cpf = CPF()\n",
    "\n",
    "from validate_docbr import CNPJ\n",
    "\n",
    "cnpj = CNPJ()"
   ]
  },
  {
   "cell_type": "markdown",
   "id": "efbe07df",
   "metadata": {},
   "source": [
    "<a id='sec2'></a>\n",
    "## 2. Data Wrangling (Preparação dos Dados)\n",
    "\n",
    "Processo pelo qual passamos a transição de entradas de fonte de dados brutas em saídas preparadas para serem utilizadas na análise e em vários outros fins."
   ]
  },
  {
   "cell_type": "code",
   "execution_count": 2,
   "id": "dfc91163",
   "metadata": {},
   "outputs": [],
   "source": [
    "### Base import\n",
    "\n",
    "cad_fake = pd.read_csv('dados_cadastrais_fake.csv', sep = ';', encoding = 'utf-8')"
   ]
  },
  {
   "cell_type": "code",
   "execution_count": 3,
   "id": "59f13f1f",
   "metadata": {},
   "outputs": [
    {
     "data": {
      "text/plain": [
       "(10000, 6)"
      ]
     },
     "execution_count": 3,
     "metadata": {},
     "output_type": "execute_result"
    }
   ],
   "source": [
    "### Number of instances (rows):\n",
    "\n",
    "cad_fake.shape"
   ]
  },
  {
   "cell_type": "code",
   "execution_count": 4,
   "id": "cfc26706",
   "metadata": {},
   "outputs": [
    {
     "name": "stdout",
     "output_type": "stream",
     "text": [
      "<class 'pandas.core.frame.DataFrame'>\n",
      "RangeIndex: 10000 entries, 0 to 9999\n",
      "Data columns (total 6 columns):\n",
      " #   Column  Non-Null Count  Dtype \n",
      "---  ------  --------------  ----- \n",
      " 0   nomes   10000 non-null  object\n",
      " 1   idade   10000 non-null  int64 \n",
      " 2   cidade  10000 non-null  object\n",
      " 3   estado  10000 non-null  object\n",
      " 4   cpf     10000 non-null  object\n",
      " 5   cnpj    10000 non-null  object\n",
      "dtypes: int64(1), object(5)\n",
      "memory usage: 468.9+ KB\n"
     ]
    }
   ],
   "source": [
    "cad_fake.info()"
   ]
  },
  {
   "cell_type": "code",
   "execution_count": 5,
   "id": "678f8fb3",
   "metadata": {},
   "outputs": [
    {
     "data": {
      "text/plain": [
       "array(['ACRELÂNDIA', 'ÁGUA BRANCA', 'ALVARÃES', 'SERRA DO NAVIO',\n",
       "       'ABAÍRA', 'ABAIARA', 'Brasília', 'AFONSO CLÁUDIO',\n",
       "       'ABADIA DE GOIÁS', 'AÇAILÂNDIA', 'ABADIA DOS DOURADOS',\n",
       "       'ÁGUA CLARA', 'ACORIZAL', 'ABAETETUBA', 'ABREU E LIMA', 'ACAUÃ',\n",
       "       'ABATIÁ', 'ANGRA DOS REIS', 'ACARI', \"ALTA FLORESTA D'OESTE\",\n",
       "       'AMAJARI', 'ACEGUÁ', 'ABDON BATISTA', 'AMPARO DE SÃO FRANCISCO',\n",
       "       'ADAMANTINA', 'ABREULÂNDIA'], dtype=object)"
      ]
     },
     "execution_count": 5,
     "metadata": {},
     "output_type": "execute_result"
    }
   ],
   "source": [
    "## How many different cities.\n",
    "\n",
    "cad_fake['cidade'].unique()"
   ]
  },
  {
   "cell_type": "code",
   "execution_count": 6,
   "id": "26ed3ecb",
   "metadata": {},
   "outputs": [],
   "source": [
    "## Title Default for City Names.\n",
    "\n",
    "cad_fake['cidade'] = cad_fake['cidade'].str.title()"
   ]
  },
  {
   "cell_type": "code",
   "execution_count": 7,
   "id": "ef49f169",
   "metadata": {},
   "outputs": [
    {
     "data": {
      "text/plain": [
       "array(['Acrelândia', 'Água Branca', 'Alvarães', 'Serra Do Navio',\n",
       "       'Abaíra', 'Abaiara', 'Brasília', 'Afonso Cláudio',\n",
       "       'Abadia De Goiás', 'Açailândia', 'Abadia Dos Dourados',\n",
       "       'Água Clara', 'Acorizal', 'Abaetetuba', 'Abreu E Lima', 'Acauã',\n",
       "       'Abatiá', 'Angra Dos Reis', 'Acari', \"Alta Floresta D'Oeste\",\n",
       "       'Amajari', 'Aceguá', 'Abdon Batista', 'Amparo De São Francisco',\n",
       "       'Adamantina', 'Abreulândia'], dtype=object)"
      ]
     },
     "execution_count": 7,
     "metadata": {},
     "output_type": "execute_result"
    }
   ],
   "source": [
    "cad_fake['cidade'].unique()"
   ]
  },
  {
   "cell_type": "code",
   "execution_count": 8,
   "id": "d4ebffa4",
   "metadata": {},
   "outputs": [
    {
     "data": {
      "text/plain": [
       "array(['AC', 'AL', 'AM', 'AP', 'BA', 'CE', 'distrito federal', 'ES', 'GO',\n",
       "       'MA', 'MG', 'MS', 'MT', 'PA', 'PB', 'PE', 'PI', 'PR', 'RJ', 'RN',\n",
       "       'RO', 'RR', 'RS', 'SC', 'SE', 'SP', 'TO', 'sao  paulo', 'DF',\n",
       "       'são  paulo', 'rio de  janeiro ', 'MINAS GERAI', 'MINAS GERAIs'],\n",
       "      dtype=object)"
      ]
     },
     "execution_count": 8,
     "metadata": {},
     "output_type": "execute_result"
    }
   ],
   "source": [
    "## How many different states.\n",
    "\n",
    "cad_fake['estado'].unique()"
   ]
  },
  {
   "cell_type": "code",
   "execution_count": 9,
   "id": "a8afc787",
   "metadata": {},
   "outputs": [],
   "source": [
    "## Standardization of the Legend of States.\n",
    "\n",
    "cad_fake = cad_fake.replace('distrito federal','DF')\n",
    "cad_fake = cad_fake.replace('sao  paulo','SP')\n",
    "cad_fake = cad_fake.replace('são  paulo','SP')\n",
    "cad_fake = cad_fake.replace('MINAS GERAI','MG')\n",
    "cad_fake = cad_fake.replace('MINAS GERAIs','MG')\n",
    "cad_fake = cad_fake.replace('rio de  janeiro ','RJ')"
   ]
  },
  {
   "cell_type": "code",
   "execution_count": 10,
   "id": "0a6041fb",
   "metadata": {},
   "outputs": [
    {
     "data": {
      "text/plain": [
       "array(['AC', 'AL', 'AM', 'AP', 'BA', 'CE', 'DF', 'ES', 'GO', 'MA', 'MG',\n",
       "       'MS', 'MT', 'PA', 'PB', 'PE', 'PI', 'PR', 'RJ', 'RN', 'RO', 'RR',\n",
       "       'RS', 'SC', 'SE', 'SP', 'TO'], dtype=object)"
      ]
     },
     "execution_count": 10,
     "metadata": {},
     "output_type": "execute_result"
    }
   ],
   "source": [
    "cad_fake['estado'].unique()"
   ]
  },
  {
   "cell_type": "code",
   "execution_count": 11,
   "id": "2bf11c47",
   "metadata": {},
   "outputs": [
    {
     "data": {
      "text/html": [
       "<div>\n",
       "<style scoped>\n",
       "    .dataframe tbody tr th:only-of-type {\n",
       "        vertical-align: middle;\n",
       "    }\n",
       "\n",
       "    .dataframe tbody tr th {\n",
       "        vertical-align: top;\n",
       "    }\n",
       "\n",
       "    .dataframe thead th {\n",
       "        text-align: right;\n",
       "    }\n",
       "</style>\n",
       "<table border=\"1\" class=\"dataframe\">\n",
       "  <thead>\n",
       "    <tr style=\"text-align: right;\">\n",
       "      <th></th>\n",
       "      <th>nomes</th>\n",
       "      <th>idade</th>\n",
       "      <th>cidade</th>\n",
       "      <th>estado</th>\n",
       "      <th>cpf</th>\n",
       "      <th>cnpj</th>\n",
       "    </tr>\n",
       "  </thead>\n",
       "  <tbody>\n",
       "    <tr>\n",
       "      <th>0</th>\n",
       "      <td>Dennis Daniels</td>\n",
       "      <td>31</td>\n",
       "      <td>Acrelândia</td>\n",
       "      <td>AC</td>\n",
       "      <td>97566536800</td>\n",
       "      <td>06589184909526</td>\n",
       "    </tr>\n",
       "    <tr>\n",
       "      <th>1</th>\n",
       "      <td>Leah Becker</td>\n",
       "      <td>42</td>\n",
       "      <td>Água Branca</td>\n",
       "      <td>AL</td>\n",
       "      <td>425.263.807-07</td>\n",
       "      <td>25.673.336/2350-20</td>\n",
       "    </tr>\n",
       "    <tr>\n",
       "      <th>2</th>\n",
       "      <td>Sally Ford</td>\n",
       "      <td>18</td>\n",
       "      <td>Alvarães</td>\n",
       "      <td>AM</td>\n",
       "      <td>34647754103</td>\n",
       "      <td>26543101702989</td>\n",
       "    </tr>\n",
       "    <tr>\n",
       "      <th>3</th>\n",
       "      <td>Colleen Duncan</td>\n",
       "      <td>21</td>\n",
       "      <td>Serra Do Navio</td>\n",
       "      <td>AP</td>\n",
       "      <td>252.531.560-03</td>\n",
       "      <td>19.062.080/5100-98</td>\n",
       "    </tr>\n",
       "    <tr>\n",
       "      <th>4</th>\n",
       "      <td>Jeff Stephenson</td>\n",
       "      <td>73</td>\n",
       "      <td>Abaíra</td>\n",
       "      <td>BA</td>\n",
       "      <td>49668886542</td>\n",
       "      <td>97794530015384</td>\n",
       "    </tr>\n",
       "    <tr>\n",
       "      <th>...</th>\n",
       "      <td>...</td>\n",
       "      <td>...</td>\n",
       "      <td>...</td>\n",
       "      <td>...</td>\n",
       "      <td>...</td>\n",
       "      <td>...</td>\n",
       "    </tr>\n",
       "    <tr>\n",
       "      <th>9995</th>\n",
       "      <td>Rebekah Mitchell PhD</td>\n",
       "      <td>55</td>\n",
       "      <td>Abaiara</td>\n",
       "      <td>CE</td>\n",
       "      <td>744.822.622-34</td>\n",
       "      <td>16.740.076/9329-75</td>\n",
       "    </tr>\n",
       "    <tr>\n",
       "      <th>9996</th>\n",
       "      <td>Lisa Parrish Jr.</td>\n",
       "      <td>73</td>\n",
       "      <td>Brasília</td>\n",
       "      <td>DF</td>\n",
       "      <td>10683395190</td>\n",
       "      <td>32246978843482</td>\n",
       "    </tr>\n",
       "    <tr>\n",
       "      <th>9997</th>\n",
       "      <td>Michael Young MD</td>\n",
       "      <td>87</td>\n",
       "      <td>Afonso Cláudio</td>\n",
       "      <td>ES</td>\n",
       "      <td>538.223.638-04</td>\n",
       "      <td>86.601.303/7580-88</td>\n",
       "    </tr>\n",
       "    <tr>\n",
       "      <th>9998</th>\n",
       "      <td>Kevin Watson DDS</td>\n",
       "      <td>82</td>\n",
       "      <td>Abadia De Goiás</td>\n",
       "      <td>GO</td>\n",
       "      <td>11632512408</td>\n",
       "      <td>08651414023648</td>\n",
       "    </tr>\n",
       "    <tr>\n",
       "      <th>9999</th>\n",
       "      <td>Mr. Joseph Wilson MD</td>\n",
       "      <td>50</td>\n",
       "      <td>Açailândia</td>\n",
       "      <td>MA</td>\n",
       "      <td>192.134.492-08</td>\n",
       "      <td>08.908.871/5161-91</td>\n",
       "    </tr>\n",
       "  </tbody>\n",
       "</table>\n",
       "<p>10000 rows × 6 columns</p>\n",
       "</div>"
      ],
      "text/plain": [
       "                     nomes  idade           cidade estado             cpf  \\\n",
       "0           Dennis Daniels     31       Acrelândia     AC     97566536800   \n",
       "1              Leah Becker     42      Água Branca     AL  425.263.807-07   \n",
       "2               Sally Ford     18         Alvarães     AM     34647754103   \n",
       "3           Colleen Duncan     21   Serra Do Navio     AP  252.531.560-03   \n",
       "4          Jeff Stephenson     73           Abaíra     BA     49668886542   \n",
       "...                    ...    ...              ...    ...             ...   \n",
       "9995  Rebekah Mitchell PhD     55          Abaiara     CE  744.822.622-34   \n",
       "9996      Lisa Parrish Jr.     73         Brasília     DF     10683395190   \n",
       "9997      Michael Young MD     87   Afonso Cláudio     ES  538.223.638-04   \n",
       "9998      Kevin Watson DDS     82  Abadia De Goiás     GO     11632512408   \n",
       "9999  Mr. Joseph Wilson MD     50       Açailândia     MA  192.134.492-08   \n",
       "\n",
       "                    cnpj  \n",
       "0         06589184909526  \n",
       "1     25.673.336/2350-20  \n",
       "2         26543101702989  \n",
       "3     19.062.080/5100-98  \n",
       "4         97794530015384  \n",
       "...                  ...  \n",
       "9995  16.740.076/9329-75  \n",
       "9996      32246978843482  \n",
       "9997  86.601.303/7580-88  \n",
       "9998      08651414023648  \n",
       "9999  08.908.871/5161-91  \n",
       "\n",
       "[10000 rows x 6 columns]"
      ]
     },
     "metadata": {},
     "output_type": "display_data"
    }
   ],
   "source": [
    "display(cad_fake)"
   ]
  },
  {
   "cell_type": "code",
   "execution_count": 12,
   "id": "a26e4953",
   "metadata": {},
   "outputs": [
    {
     "data": {
      "text/plain": [
       "10000"
      ]
     },
     "execution_count": 12,
     "metadata": {},
     "output_type": "execute_result"
    }
   ],
   "source": [
    "## Checking the Distinct CPF's number.\n",
    "\n",
    "cad_fake.cpf.nunique()"
   ]
  },
  {
   "cell_type": "code",
   "execution_count": 13,
   "id": "da285709",
   "metadata": {},
   "outputs": [
    {
     "data": {
      "text/plain": [
       "10000"
      ]
     },
     "execution_count": 13,
     "metadata": {},
     "output_type": "execute_result"
    }
   ],
   "source": [
    "## Checking the Distinct CNPJ's number.\n",
    "\n",
    "cad_fake.cnpj.nunique()"
   ]
  },
  {
   "cell_type": "markdown",
   "id": "073a45c9",
   "metadata": {},
   "source": [
    "## TRATAMENTO DO CPF E DO CNPJ\n",
    "\n",
    "- A variável \"CPF\" está no formato \"425.263.807-07\"\n",
    "- Utilizando RegEx, tratar para o formato: \"42526380707\"\n",
    "- A variável \"CNPJ\" está no formato \"17.263.979/0001-93\"\n",
    "- Utilizando RegEx, tratar para o formato: \"17263979000193\""
   ]
  },
  {
   "cell_type": "code",
   "execution_count": 14,
   "id": "6fbee5f0",
   "metadata": {},
   "outputs": [],
   "source": [
    "## Applies Regex.\n",
    "\n",
    "cad_fake['cpf'] = cad_fake['cpf'].replace(to_replace='[^0-9]+', value='', inplace=False, regex=True)\n",
    "cad_fake['cnpj'] = cad_fake['cnpj'].replace(to_replace='[^0-9]+', value='', inplace=False, regex=True)"
   ]
  },
  {
   "cell_type": "code",
   "execution_count": 15,
   "id": "e75e95be",
   "metadata": {},
   "outputs": [
    {
     "data": {
      "text/html": [
       "<div>\n",
       "<style scoped>\n",
       "    .dataframe tbody tr th:only-of-type {\n",
       "        vertical-align: middle;\n",
       "    }\n",
       "\n",
       "    .dataframe tbody tr th {\n",
       "        vertical-align: top;\n",
       "    }\n",
       "\n",
       "    .dataframe thead th {\n",
       "        text-align: right;\n",
       "    }\n",
       "</style>\n",
       "<table border=\"1\" class=\"dataframe\">\n",
       "  <thead>\n",
       "    <tr style=\"text-align: right;\">\n",
       "      <th></th>\n",
       "      <th>nomes</th>\n",
       "      <th>idade</th>\n",
       "      <th>cidade</th>\n",
       "      <th>estado</th>\n",
       "      <th>cpf</th>\n",
       "      <th>cnpj</th>\n",
       "    </tr>\n",
       "  </thead>\n",
       "  <tbody>\n",
       "    <tr>\n",
       "      <th>0</th>\n",
       "      <td>Dennis Daniels</td>\n",
       "      <td>31</td>\n",
       "      <td>Acrelândia</td>\n",
       "      <td>AC</td>\n",
       "      <td>97566536800</td>\n",
       "      <td>06589184909526</td>\n",
       "    </tr>\n",
       "    <tr>\n",
       "      <th>1</th>\n",
       "      <td>Leah Becker</td>\n",
       "      <td>42</td>\n",
       "      <td>Água Branca</td>\n",
       "      <td>AL</td>\n",
       "      <td>42526380707</td>\n",
       "      <td>25673336235020</td>\n",
       "    </tr>\n",
       "    <tr>\n",
       "      <th>2</th>\n",
       "      <td>Sally Ford</td>\n",
       "      <td>18</td>\n",
       "      <td>Alvarães</td>\n",
       "      <td>AM</td>\n",
       "      <td>34647754103</td>\n",
       "      <td>26543101702989</td>\n",
       "    </tr>\n",
       "    <tr>\n",
       "      <th>3</th>\n",
       "      <td>Colleen Duncan</td>\n",
       "      <td>21</td>\n",
       "      <td>Serra Do Navio</td>\n",
       "      <td>AP</td>\n",
       "      <td>25253156003</td>\n",
       "      <td>19062080510098</td>\n",
       "    </tr>\n",
       "    <tr>\n",
       "      <th>4</th>\n",
       "      <td>Jeff Stephenson</td>\n",
       "      <td>73</td>\n",
       "      <td>Abaíra</td>\n",
       "      <td>BA</td>\n",
       "      <td>49668886542</td>\n",
       "      <td>97794530015384</td>\n",
       "    </tr>\n",
       "    <tr>\n",
       "      <th>...</th>\n",
       "      <td>...</td>\n",
       "      <td>...</td>\n",
       "      <td>...</td>\n",
       "      <td>...</td>\n",
       "      <td>...</td>\n",
       "      <td>...</td>\n",
       "    </tr>\n",
       "    <tr>\n",
       "      <th>9995</th>\n",
       "      <td>Rebekah Mitchell PhD</td>\n",
       "      <td>55</td>\n",
       "      <td>Abaiara</td>\n",
       "      <td>CE</td>\n",
       "      <td>74482262234</td>\n",
       "      <td>16740076932975</td>\n",
       "    </tr>\n",
       "    <tr>\n",
       "      <th>9996</th>\n",
       "      <td>Lisa Parrish Jr.</td>\n",
       "      <td>73</td>\n",
       "      <td>Brasília</td>\n",
       "      <td>DF</td>\n",
       "      <td>10683395190</td>\n",
       "      <td>32246978843482</td>\n",
       "    </tr>\n",
       "    <tr>\n",
       "      <th>9997</th>\n",
       "      <td>Michael Young MD</td>\n",
       "      <td>87</td>\n",
       "      <td>Afonso Cláudio</td>\n",
       "      <td>ES</td>\n",
       "      <td>53822363804</td>\n",
       "      <td>86601303758088</td>\n",
       "    </tr>\n",
       "    <tr>\n",
       "      <th>9998</th>\n",
       "      <td>Kevin Watson DDS</td>\n",
       "      <td>82</td>\n",
       "      <td>Abadia De Goiás</td>\n",
       "      <td>GO</td>\n",
       "      <td>11632512408</td>\n",
       "      <td>08651414023648</td>\n",
       "    </tr>\n",
       "    <tr>\n",
       "      <th>9999</th>\n",
       "      <td>Mr. Joseph Wilson MD</td>\n",
       "      <td>50</td>\n",
       "      <td>Açailândia</td>\n",
       "      <td>MA</td>\n",
       "      <td>19213449208</td>\n",
       "      <td>08908871516191</td>\n",
       "    </tr>\n",
       "  </tbody>\n",
       "</table>\n",
       "<p>10000 rows × 6 columns</p>\n",
       "</div>"
      ],
      "text/plain": [
       "                     nomes  idade           cidade estado          cpf  \\\n",
       "0           Dennis Daniels     31       Acrelândia     AC  97566536800   \n",
       "1              Leah Becker     42      Água Branca     AL  42526380707   \n",
       "2               Sally Ford     18         Alvarães     AM  34647754103   \n",
       "3           Colleen Duncan     21   Serra Do Navio     AP  25253156003   \n",
       "4          Jeff Stephenson     73           Abaíra     BA  49668886542   \n",
       "...                    ...    ...              ...    ...          ...   \n",
       "9995  Rebekah Mitchell PhD     55          Abaiara     CE  74482262234   \n",
       "9996      Lisa Parrish Jr.     73         Brasília     DF  10683395190   \n",
       "9997      Michael Young MD     87   Afonso Cláudio     ES  53822363804   \n",
       "9998      Kevin Watson DDS     82  Abadia De Goiás     GO  11632512408   \n",
       "9999  Mr. Joseph Wilson MD     50       Açailândia     MA  19213449208   \n",
       "\n",
       "                cnpj  \n",
       "0     06589184909526  \n",
       "1     25673336235020  \n",
       "2     26543101702989  \n",
       "3     19062080510098  \n",
       "4     97794530015384  \n",
       "...              ...  \n",
       "9995  16740076932975  \n",
       "9996  32246978843482  \n",
       "9997  86601303758088  \n",
       "9998  08651414023648  \n",
       "9999  08908871516191  \n",
       "\n",
       "[10000 rows x 6 columns]"
      ]
     },
     "metadata": {},
     "output_type": "display_data"
    }
   ],
   "source": [
    "display(cad_fake)"
   ]
  },
  {
   "cell_type": "code",
   "execution_count": 16,
   "id": "ec422ff5",
   "metadata": {},
   "outputs": [
    {
     "name": "stdout",
     "output_type": "stream",
     "text": [
      "<class 'pandas.core.frame.DataFrame'>\n",
      "RangeIndex: 10000 entries, 0 to 9999\n",
      "Data columns (total 6 columns):\n",
      " #   Column  Non-Null Count  Dtype \n",
      "---  ------  --------------  ----- \n",
      " 0   nomes   10000 non-null  object\n",
      " 1   idade   10000 non-null  int64 \n",
      " 2   cidade  10000 non-null  object\n",
      " 3   estado  10000 non-null  object\n",
      " 4   cpf     10000 non-null  object\n",
      " 5   cnpj    10000 non-null  object\n",
      "dtypes: int64(1), object(5)\n",
      "memory usage: 468.9+ KB\n"
     ]
    }
   ],
   "source": [
    "cad_fake.info()"
   ]
  },
  {
   "cell_type": "markdown",
   "id": "a992f757",
   "metadata": {},
   "source": [
    "## VALIDAÇÃO DOS CPF´s E CNPJ´s"
   ]
  },
  {
   "cell_type": "code",
   "execution_count": 17,
   "id": "deaf225f",
   "metadata": {},
   "outputs": [],
   "source": [
    "cad_fake['validade_cpf'] = cpf.validate_list(cad_fake['cpf'])"
   ]
  },
  {
   "cell_type": "code",
   "execution_count": 18,
   "id": "6daa25bd",
   "metadata": {},
   "outputs": [],
   "source": [
    "cad_fake['validade_cnpj'] = cnpj.validate_list(cad_fake['cnpj'])"
   ]
  },
  {
   "cell_type": "code",
   "execution_count": 19,
   "id": "d99353ea",
   "metadata": {
    "scrolled": true
   },
   "outputs": [
    {
     "data": {
      "text/html": [
       "<div>\n",
       "<style scoped>\n",
       "    .dataframe tbody tr th:only-of-type {\n",
       "        vertical-align: middle;\n",
       "    }\n",
       "\n",
       "    .dataframe tbody tr th {\n",
       "        vertical-align: top;\n",
       "    }\n",
       "\n",
       "    .dataframe thead th {\n",
       "        text-align: right;\n",
       "    }\n",
       "</style>\n",
       "<table border=\"1\" class=\"dataframe\">\n",
       "  <thead>\n",
       "    <tr style=\"text-align: right;\">\n",
       "      <th></th>\n",
       "      <th>nomes</th>\n",
       "      <th>idade</th>\n",
       "      <th>cidade</th>\n",
       "      <th>estado</th>\n",
       "      <th>cpf</th>\n",
       "      <th>cnpj</th>\n",
       "      <th>validade_cpf</th>\n",
       "      <th>validade_cnpj</th>\n",
       "    </tr>\n",
       "  </thead>\n",
       "  <tbody>\n",
       "    <tr>\n",
       "      <th>0</th>\n",
       "      <td>Dennis Daniels</td>\n",
       "      <td>31</td>\n",
       "      <td>Acrelândia</td>\n",
       "      <td>AC</td>\n",
       "      <td>97566536800</td>\n",
       "      <td>06589184909526</td>\n",
       "      <td>True</td>\n",
       "      <td>True</td>\n",
       "    </tr>\n",
       "    <tr>\n",
       "      <th>1</th>\n",
       "      <td>Leah Becker</td>\n",
       "      <td>42</td>\n",
       "      <td>Água Branca</td>\n",
       "      <td>AL</td>\n",
       "      <td>42526380707</td>\n",
       "      <td>25673336235020</td>\n",
       "      <td>True</td>\n",
       "      <td>True</td>\n",
       "    </tr>\n",
       "    <tr>\n",
       "      <th>2</th>\n",
       "      <td>Sally Ford</td>\n",
       "      <td>18</td>\n",
       "      <td>Alvarães</td>\n",
       "      <td>AM</td>\n",
       "      <td>34647754103</td>\n",
       "      <td>26543101702989</td>\n",
       "      <td>True</td>\n",
       "      <td>True</td>\n",
       "    </tr>\n",
       "    <tr>\n",
       "      <th>3</th>\n",
       "      <td>Colleen Duncan</td>\n",
       "      <td>21</td>\n",
       "      <td>Serra Do Navio</td>\n",
       "      <td>AP</td>\n",
       "      <td>25253156003</td>\n",
       "      <td>19062080510098</td>\n",
       "      <td>True</td>\n",
       "      <td>True</td>\n",
       "    </tr>\n",
       "    <tr>\n",
       "      <th>4</th>\n",
       "      <td>Jeff Stephenson</td>\n",
       "      <td>73</td>\n",
       "      <td>Abaíra</td>\n",
       "      <td>BA</td>\n",
       "      <td>49668886542</td>\n",
       "      <td>97794530015384</td>\n",
       "      <td>True</td>\n",
       "      <td>True</td>\n",
       "    </tr>\n",
       "    <tr>\n",
       "      <th>...</th>\n",
       "      <td>...</td>\n",
       "      <td>...</td>\n",
       "      <td>...</td>\n",
       "      <td>...</td>\n",
       "      <td>...</td>\n",
       "      <td>...</td>\n",
       "      <td>...</td>\n",
       "      <td>...</td>\n",
       "    </tr>\n",
       "    <tr>\n",
       "      <th>9995</th>\n",
       "      <td>Rebekah Mitchell PhD</td>\n",
       "      <td>55</td>\n",
       "      <td>Abaiara</td>\n",
       "      <td>CE</td>\n",
       "      <td>74482262234</td>\n",
       "      <td>16740076932975</td>\n",
       "      <td>True</td>\n",
       "      <td>True</td>\n",
       "    </tr>\n",
       "    <tr>\n",
       "      <th>9996</th>\n",
       "      <td>Lisa Parrish Jr.</td>\n",
       "      <td>73</td>\n",
       "      <td>Brasília</td>\n",
       "      <td>DF</td>\n",
       "      <td>10683395190</td>\n",
       "      <td>32246978843482</td>\n",
       "      <td>True</td>\n",
       "      <td>True</td>\n",
       "    </tr>\n",
       "    <tr>\n",
       "      <th>9997</th>\n",
       "      <td>Michael Young MD</td>\n",
       "      <td>87</td>\n",
       "      <td>Afonso Cláudio</td>\n",
       "      <td>ES</td>\n",
       "      <td>53822363804</td>\n",
       "      <td>86601303758088</td>\n",
       "      <td>True</td>\n",
       "      <td>True</td>\n",
       "    </tr>\n",
       "    <tr>\n",
       "      <th>9998</th>\n",
       "      <td>Kevin Watson DDS</td>\n",
       "      <td>82</td>\n",
       "      <td>Abadia De Goiás</td>\n",
       "      <td>GO</td>\n",
       "      <td>11632512408</td>\n",
       "      <td>08651414023648</td>\n",
       "      <td>True</td>\n",
       "      <td>True</td>\n",
       "    </tr>\n",
       "    <tr>\n",
       "      <th>9999</th>\n",
       "      <td>Mr. Joseph Wilson MD</td>\n",
       "      <td>50</td>\n",
       "      <td>Açailândia</td>\n",
       "      <td>MA</td>\n",
       "      <td>19213449208</td>\n",
       "      <td>08908871516191</td>\n",
       "      <td>True</td>\n",
       "      <td>True</td>\n",
       "    </tr>\n",
       "  </tbody>\n",
       "</table>\n",
       "<p>10000 rows × 8 columns</p>\n",
       "</div>"
      ],
      "text/plain": [
       "                     nomes  idade           cidade estado          cpf  \\\n",
       "0           Dennis Daniels     31       Acrelândia     AC  97566536800   \n",
       "1              Leah Becker     42      Água Branca     AL  42526380707   \n",
       "2               Sally Ford     18         Alvarães     AM  34647754103   \n",
       "3           Colleen Duncan     21   Serra Do Navio     AP  25253156003   \n",
       "4          Jeff Stephenson     73           Abaíra     BA  49668886542   \n",
       "...                    ...    ...              ...    ...          ...   \n",
       "9995  Rebekah Mitchell PhD     55          Abaiara     CE  74482262234   \n",
       "9996      Lisa Parrish Jr.     73         Brasília     DF  10683395190   \n",
       "9997      Michael Young MD     87   Afonso Cláudio     ES  53822363804   \n",
       "9998      Kevin Watson DDS     82  Abadia De Goiás     GO  11632512408   \n",
       "9999  Mr. Joseph Wilson MD     50       Açailândia     MA  19213449208   \n",
       "\n",
       "                cnpj  validade_cpf  validade_cnpj  \n",
       "0     06589184909526          True           True  \n",
       "1     25673336235020          True           True  \n",
       "2     26543101702989          True           True  \n",
       "3     19062080510098          True           True  \n",
       "4     97794530015384          True           True  \n",
       "...              ...           ...            ...  \n",
       "9995  16740076932975          True           True  \n",
       "9996  32246978843482          True           True  \n",
       "9997  86601303758088          True           True  \n",
       "9998  08651414023648          True           True  \n",
       "9999  08908871516191          True           True  \n",
       "\n",
       "[10000 rows x 8 columns]"
      ]
     },
     "metadata": {},
     "output_type": "display_data"
    }
   ],
   "source": [
    "display(cad_fake)"
   ]
  },
  {
   "cell_type": "code",
   "execution_count": 20,
   "id": "592db728",
   "metadata": {},
   "outputs": [
    {
     "name": "stdout",
     "output_type": "stream",
     "text": [
      "No. de CPF´s válidos : True    10000\n",
      "Name: validade_cpf, dtype: int64\n"
     ]
    }
   ],
   "source": [
    "val_cpf = cad_fake.validade_cpf.value_counts()\n",
    "print(\"No. de CPF´s válidos :\", val_cpf)"
   ]
  },
  {
   "cell_type": "code",
   "execution_count": 21,
   "id": "9fece18f",
   "metadata": {
    "scrolled": true
   },
   "outputs": [
    {
     "name": "stdout",
     "output_type": "stream",
     "text": [
      "No. de CNPJ´s válidos : True    10000\n",
      "Name: validade_cnpj, dtype: int64\n"
     ]
    }
   ],
   "source": [
    "val_cnpj = cad_fake.validade_cnpj.value_counts()\n",
    "print(\"No. de CNPJ´s válidos :\", val_cnpj)"
   ]
  },
  {
   "cell_type": "markdown",
   "id": "9749f3ca",
   "metadata": {},
   "source": [
    "<a id='sec1'></a>\n",
    "## 3. REPORTS"
   ]
  },
  {
   "cell_type": "markdown",
   "id": "14181067",
   "metadata": {},
   "source": [
    "### 1) Quantos clientes temos nessa base?"
   ]
  },
  {
   "cell_type": "code",
   "execution_count": 22,
   "id": "ee8f23a4",
   "metadata": {},
   "outputs": [
    {
     "name": "stdout",
     "output_type": "stream",
     "text": [
      "Nome de Clientes com Nomes Distintos : 8655\n"
     ]
    }
   ],
   "source": [
    "nomes_unicos = cad_fake.nomes.nunique()\n",
    "print(\"Nome de Clientes com Nomes Distintos :\", nomes_unicos)"
   ]
  },
  {
   "cell_type": "code",
   "execution_count": 23,
   "id": "5ecce64f",
   "metadata": {},
   "outputs": [
    {
     "name": "stdout",
     "output_type": "stream",
     "text": [
      "Números Distintos de CPF´s : 10000\n"
     ]
    }
   ],
   "source": [
    "cpf_unicos = cad_fake.cpf.nunique()\n",
    "print(\"Números Distintos de CPF´s :\", cpf_unicos)"
   ]
  },
  {
   "cell_type": "code",
   "execution_count": 24,
   "id": "7874d0ea",
   "metadata": {},
   "outputs": [
    {
     "name": "stdout",
     "output_type": "stream",
     "text": [
      "No. de CPF´s válidos : True    10000\n",
      "Name: validade_cpf, dtype: int64\n"
     ]
    }
   ],
   "source": [
    "val_cpf = cad_fake.validade_cpf.value_counts()\n",
    "print(\"No. de CPF´s válidos :\", val_cpf)"
   ]
  },
  {
   "cell_type": "markdown",
   "id": "9e5cafc4",
   "metadata": {},
   "source": [
    "* Considerando que todos os CPF´s são válidos, devemos considerar a presença de pessoas homônimas em nossa base de dados.\n",
    "* Considerando que só existe um CPF por pessoa física.\n",
    "* Concluímos que temos 10000 clientes em nossa base."
   ]
  },
  {
   "cell_type": "markdown",
   "id": "be74d708",
   "metadata": {},
   "source": [
    "### 2) Qual a média de idade dos clientes?"
   ]
  },
  {
   "cell_type": "code",
   "execution_count": 25,
   "id": "532c65bb",
   "metadata": {},
   "outputs": [
    {
     "name": "stdout",
     "output_type": "stream",
     "text": [
      "A Média de Idade dos Clientes é de : 53.7831 anos.\n"
     ]
    }
   ],
   "source": [
    "med_idade = cad_fake['idade'].mean()\n",
    "print(\"A Média de Idade dos Clientes é de :\", med_idade, \"anos.\")"
   ]
  },
  {
   "cell_type": "markdown",
   "id": "1c548bb6",
   "metadata": {},
   "source": [
    "### 3) Quantos clientes nessa base pertencem a cada estado?"
   ]
  },
  {
   "cell_type": "code",
   "execution_count": 26,
   "id": "4e445e49",
   "metadata": {},
   "outputs": [
    {
     "data": {
      "text/html": [
       "<div>\n",
       "<style scoped>\n",
       "    .dataframe tbody tr th:only-of-type {\n",
       "        vertical-align: middle;\n",
       "    }\n",
       "\n",
       "    .dataframe tbody tr th {\n",
       "        vertical-align: top;\n",
       "    }\n",
       "\n",
       "    .dataframe thead th {\n",
       "        text-align: right;\n",
       "    }\n",
       "</style>\n",
       "<table border=\"1\" class=\"dataframe\">\n",
       "  <thead>\n",
       "    <tr style=\"text-align: right;\">\n",
       "      <th></th>\n",
       "      <th>estado</th>\n",
       "      <th>0</th>\n",
       "    </tr>\n",
       "  </thead>\n",
       "  <tbody>\n",
       "    <tr>\n",
       "      <th>0</th>\n",
       "      <td>AC</td>\n",
       "      <td>371</td>\n",
       "    </tr>\n",
       "    <tr>\n",
       "      <th>1</th>\n",
       "      <td>AL</td>\n",
       "      <td>371</td>\n",
       "    </tr>\n",
       "    <tr>\n",
       "      <th>2</th>\n",
       "      <td>AM</td>\n",
       "      <td>371</td>\n",
       "    </tr>\n",
       "    <tr>\n",
       "      <th>3</th>\n",
       "      <td>AP</td>\n",
       "      <td>371</td>\n",
       "    </tr>\n",
       "    <tr>\n",
       "      <th>4</th>\n",
       "      <td>BA</td>\n",
       "      <td>371</td>\n",
       "    </tr>\n",
       "    <tr>\n",
       "      <th>5</th>\n",
       "      <td>CE</td>\n",
       "      <td>371</td>\n",
       "    </tr>\n",
       "    <tr>\n",
       "      <th>6</th>\n",
       "      <td>DF</td>\n",
       "      <td>371</td>\n",
       "    </tr>\n",
       "    <tr>\n",
       "      <th>7</th>\n",
       "      <td>ES</td>\n",
       "      <td>371</td>\n",
       "    </tr>\n",
       "    <tr>\n",
       "      <th>8</th>\n",
       "      <td>GO</td>\n",
       "      <td>371</td>\n",
       "    </tr>\n",
       "    <tr>\n",
       "      <th>9</th>\n",
       "      <td>MA</td>\n",
       "      <td>371</td>\n",
       "    </tr>\n",
       "    <tr>\n",
       "      <th>10</th>\n",
       "      <td>MG</td>\n",
       "      <td>370</td>\n",
       "    </tr>\n",
       "    <tr>\n",
       "      <th>11</th>\n",
       "      <td>MS</td>\n",
       "      <td>370</td>\n",
       "    </tr>\n",
       "    <tr>\n",
       "      <th>12</th>\n",
       "      <td>MT</td>\n",
       "      <td>370</td>\n",
       "    </tr>\n",
       "    <tr>\n",
       "      <th>13</th>\n",
       "      <td>PA</td>\n",
       "      <td>370</td>\n",
       "    </tr>\n",
       "    <tr>\n",
       "      <th>14</th>\n",
       "      <td>PB</td>\n",
       "      <td>370</td>\n",
       "    </tr>\n",
       "    <tr>\n",
       "      <th>15</th>\n",
       "      <td>PE</td>\n",
       "      <td>370</td>\n",
       "    </tr>\n",
       "    <tr>\n",
       "      <th>16</th>\n",
       "      <td>PI</td>\n",
       "      <td>370</td>\n",
       "    </tr>\n",
       "    <tr>\n",
       "      <th>17</th>\n",
       "      <td>PR</td>\n",
       "      <td>370</td>\n",
       "    </tr>\n",
       "    <tr>\n",
       "      <th>18</th>\n",
       "      <td>RJ</td>\n",
       "      <td>370</td>\n",
       "    </tr>\n",
       "    <tr>\n",
       "      <th>19</th>\n",
       "      <td>RN</td>\n",
       "      <td>370</td>\n",
       "    </tr>\n",
       "    <tr>\n",
       "      <th>20</th>\n",
       "      <td>RO</td>\n",
       "      <td>370</td>\n",
       "    </tr>\n",
       "    <tr>\n",
       "      <th>21</th>\n",
       "      <td>RR</td>\n",
       "      <td>370</td>\n",
       "    </tr>\n",
       "    <tr>\n",
       "      <th>22</th>\n",
       "      <td>RS</td>\n",
       "      <td>370</td>\n",
       "    </tr>\n",
       "    <tr>\n",
       "      <th>23</th>\n",
       "      <td>SC</td>\n",
       "      <td>370</td>\n",
       "    </tr>\n",
       "    <tr>\n",
       "      <th>24</th>\n",
       "      <td>SE</td>\n",
       "      <td>370</td>\n",
       "    </tr>\n",
       "    <tr>\n",
       "      <th>25</th>\n",
       "      <td>SP</td>\n",
       "      <td>370</td>\n",
       "    </tr>\n",
       "    <tr>\n",
       "      <th>26</th>\n",
       "      <td>TO</td>\n",
       "      <td>370</td>\n",
       "    </tr>\n",
       "  </tbody>\n",
       "</table>\n",
       "</div>"
      ],
      "text/plain": [
       "   estado    0\n",
       "0      AC  371\n",
       "1      AL  371\n",
       "2      AM  371\n",
       "3      AP  371\n",
       "4      BA  371\n",
       "5      CE  371\n",
       "6      DF  371\n",
       "7      ES  371\n",
       "8      GO  371\n",
       "9      MA  371\n",
       "10     MG  370\n",
       "11     MS  370\n",
       "12     MT  370\n",
       "13     PA  370\n",
       "14     PB  370\n",
       "15     PE  370\n",
       "16     PI  370\n",
       "17     PR  370\n",
       "18     RJ  370\n",
       "19     RN  370\n",
       "20     RO  370\n",
       "21     RR  370\n",
       "22     RS  370\n",
       "23     SC  370\n",
       "24     SE  370\n",
       "25     SP  370\n",
       "26     TO  370"
      ]
     },
     "execution_count": 26,
     "metadata": {},
     "output_type": "execute_result"
    }
   ],
   "source": [
    "cad_fake.groupby('estado').size().reset_index()"
   ]
  },
  {
   "cell_type": "markdown",
   "id": "f34a0c66",
   "metadata": {},
   "source": [
    "* Aqui calculamos o numero de repetições que cada sigla de estado tem no DataFrame e desta forma concluimos a quantidade de clientes por estado."
   ]
  },
  {
   "cell_type": "markdown",
   "id": "8a40dec8",
   "metadata": {},
   "source": [
    "### 4) Quantos CPF´s válidos e inválidos foram encontrados?"
   ]
  },
  {
   "cell_type": "code",
   "execution_count": 27,
   "id": "1bff43c7",
   "metadata": {},
   "outputs": [
    {
     "data": {
      "text/plain": [
       "True    10000\n",
       "Name: validade_cpf, dtype: int64"
      ]
     },
     "execution_count": 27,
     "metadata": {},
     "output_type": "execute_result"
    }
   ],
   "source": [
    "cad_fake.validade_cpf.value_counts()"
   ]
  },
  {
   "cell_type": "markdown",
   "id": "593b492c",
   "metadata": {},
   "source": [
    "**Válidos = 10000**\n",
    "\n",
    "**Inválidos = 0**"
   ]
  },
  {
   "cell_type": "markdown",
   "id": "ff6aeb87",
   "metadata": {},
   "source": [
    "### 5) Quantos CNPJ´s válidos e inválidos foram encontrados?"
   ]
  },
  {
   "cell_type": "code",
   "execution_count": 28,
   "id": "57bdb361",
   "metadata": {},
   "outputs": [
    {
     "data": {
      "text/plain": [
       "True    10000\n",
       "Name: validade_cnpj, dtype: int64"
      ]
     },
     "execution_count": 28,
     "metadata": {},
     "output_type": "execute_result"
    }
   ],
   "source": [
    "cad_fake.validade_cnpj.value_counts()"
   ]
  },
  {
   "cell_type": "markdown",
   "id": "801f2485",
   "metadata": {},
   "source": [
    "**Válidos = 10000**\n",
    "\n",
    "**Inválidos = 0**"
   ]
  },
  {
   "cell_type": "markdown",
   "id": "3ad0ef50",
   "metadata": {},
   "source": [
    "**Cézar Augusto Meira Carmo - cezaraugustomeiracarmo@gmail.com**"
   ]
  }
 ],
 "metadata": {
  "kernelspec": {
   "display_name": "Python 3 (ipykernel)",
   "language": "python",
   "name": "python3"
  },
  "language_info": {
   "codemirror_mode": {
    "name": "ipython",
    "version": 3
   },
   "file_extension": ".py",
   "mimetype": "text/x-python",
   "name": "python",
   "nbconvert_exporter": "python",
   "pygments_lexer": "ipython3",
   "version": "3.9.7"
  }
 },
 "nbformat": 4,
 "nbformat_minor": 5
}
